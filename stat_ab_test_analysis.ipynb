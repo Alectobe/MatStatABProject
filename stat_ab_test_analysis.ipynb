{
 "cells": [
  {
   "cell_type": "markdown",
   "id": "f58eee97",
   "metadata": {},
   "source": [
    "\n",
    "## A/B-эксперимент: Статистический анализ\n",
    "\n",
    "**Вводные данные**\n",
    "\n",
    "Продукт – мобильное приложении с ежедневными мотивирующими цитатами. Приложение работает по бесплатному доступу, но в полной мере раскрывается только после оплаты подписки. Также внутри приложения есть разовые покупки, которые можно совершить вне зависимости от наличия подписки. Попросили подвести итоги по АБ эксперименту. Надо провести эксперимент как будто бы  «с нуля», чтобы перепроверить все важные аспекты. Необходимо провести полный цикл АБ-эксперимента на основе данных результата АБ-теста – paymentChange. Его проводили на новых пользователях сплитом 50/50. Эксперимент заключался в снижении стоимости подписки с 400 до 160 у. е. \n",
    "\n",
    "Важное уточнение: в продукте могут быть параллельно тесты"
   ]
  },
  {
   "cell_type": "markdown",
   "id": "971cd4e7-2432-4822-8223-e56d10e86ccb",
   "metadata": {},
   "source": [
    "## Постановка задачи\n",
    "\n",
    "### Проблематика\n",
    "У мобильного приложения наблюдается **низкая конверсия в покупку подписки**. Основная задача — **увеличить количество платящих пользователей** и, как следствие, общую выручку продукта.\n",
    "\n",
    "### Продуктовая гипотеза\n",
    "> **Если снизить стоимость подписки**, пользователи станут охотнее её приобретать, что приведёт к **росту ключевой метрики — конверсии в платящего пользователя (CR)**.  \n",
    "На данный момент эта метрика остаётся на низком уровне и ограничивает рост выручки.\n",
    "\n",
    "### Ключевые метрики\n",
    "\n",
    "- **Ключевая метрика:** CR в платящего пользователя  \n",
    "- **Заградительная метрика:** Revenue\n",
    "\n",
    ">  **Не используем Revenue как основную метрику**, поскольку:\n",
    "> - объём данных ограничен;\n",
    "> - платящие пользователи могут принести больше денег в будущем (LTV);\n",
    "> - важнее протестировать механизм роста CR.\n",
    "\n",
    "### Целесообразность эксперимента\n",
    "Эксперимент **оправдан** с точки зрения затрат и рисков:\n",
    "- В минимуме — занимает слот экспериментов и требует разработки;\n",
    "- В максимуме — может снизить метрики при неправильной цене.\n",
    "\n",
    "> Эксперимент оправдан, **если рост CR** сможет **компенсировать потерю в цене**. Ключевая задача — рассчитать, **насколько должна вырасти конверсия**, чтобы итоговый ARPU (выручка на пользователя) остался прежним или вырос.\n",
    "\n",
    "### План действий (Action Plan)\n",
    "\n",
    "| Сценарий      | Действие                                                        |\n",
    "|---------------|------------------------------------------------------------------|\n",
    "| ✅ Успех      | Раскатываем цену на всех пользователей                          |\n",
    "| ❌ Неудача    | Анализируем CR и ARPU, предлагаем альтернативную цену           |\n",
    "\n",
    "### Дальнейшие шаги\n",
    "\n",
    "- Тестирование **других ценовых точек** для оценки **эластичности спроса**\n",
    "- Сегментация пользователей (по гео, источникам трафика и др.)\n",
    "- Оценка долгосрочной выгоды через модели LTV"
   ]
  },
  {
   "cell_type": "code",
   "execution_count": 19,
   "id": "5c6bf21c",
   "metadata": {},
   "outputs": [],
   "source": [
    "import pandas as pd\n",
    "import numpy as np\n",
    "from scipy.stats import ttest_ind, norm\n",
    "import matplotlib.pyplot as plt\n",
    "import seaborn as sns\n",
    "\n",
    "sns.set(style=\"whitegrid\")"
   ]
  },
  {
   "cell_type": "code",
   "execution_count": 7,
   "id": "199fa4b0",
   "metadata": {},
   "outputs": [],
   "source": [
    "# 2. Загрузка данных\n",
    "actions = pd.read_csv(\"Action.csv\")\n",
    "payments = pd.read_csv(\"Payment.csv\")\n",
    "experiments = pd.read_csv(\"Experiments.csv\")"
   ]
  },
  {
   "cell_type": "code",
   "execution_count": 28,
   "id": "a1e90b38-5d96-46fe-8718-42129c3bbc12",
   "metadata": {},
   "outputs": [
    {
     "name": "stdout",
     "output_type": "stream",
     "text": [
      "     uid                   Ts     Action\n",
      "0  cfjqq  2020-01-16 09:24:32  firstOpen\n",
      "1  cfjqq  2020-01-16 15:39:41  function2\n",
      "2  cfjqq  2020-01-16 15:58:21  function4\n",
      "3  hclau  2020-01-10 22:54:42  firstOpen\n",
      "4  hclau  2020-01-11 01:19:03  function1\n",
      "     uid paymentType  Payment\n",
      "0  hclau       type1      400\n",
      "1  hclau       type2      200\n",
      "2  bkhtq       type2      200\n",
      "3  rxxdh       type2      200\n",
      "4  qxjhx       type1      400\n",
      "     Experiment Group    uid\n",
      "0  actionChange   Old  cfjqq\n",
      "1  actionChange   Old  hclau\n",
      "2  actionChange   Old  bkhtq\n",
      "3  actionChange   Old  rxxdh\n",
      "4  actionChange   Old  ccsko\n"
     ]
    }
   ],
   "source": [
    "print(actions.head())\n",
    "print(payments.head())\n",
    "print(experiments.head())"
   ]
  },
  {
   "cell_type": "code",
   "execution_count": 8,
   "id": "3f0d0fca",
   "metadata": {},
   "outputs": [],
   "source": [
    "# 3. Обработка\n",
    "payexp = experiments[experiments[\"Experiment\"] == \"paymentChange\"]\n",
    "payments_grouped = payments.groupby(\"uid\", as_index=False).agg({\"Payment\": \"sum\"})\n",
    "merged = payexp.merge(payments_grouped, on=\"uid\", how=\"left\")\n",
    "merged[\"Payment\"] = merged[\"Payment\"].fillna(0)\n",
    "merged[\"Converted\"] = merged[\"Payment\"] > 0"
   ]
  },
  {
   "cell_type": "code",
   "execution_count": 9,
   "id": "f7dbd937",
   "metadata": {},
   "outputs": [
    {
     "data": {
      "text/html": [
       "<div>\n",
       "<style scoped>\n",
       "    .dataframe tbody tr th:only-of-type {\n",
       "        vertical-align: middle;\n",
       "    }\n",
       "\n",
       "    .dataframe tbody tr th {\n",
       "        vertical-align: top;\n",
       "    }\n",
       "\n",
       "    .dataframe thead th {\n",
       "        text-align: right;\n",
       "    }\n",
       "</style>\n",
       "<table border=\"1\" class=\"dataframe\">\n",
       "  <thead>\n",
       "    <tr style=\"text-align: right;\">\n",
       "      <th></th>\n",
       "      <th>n</th>\n",
       "      <th>x</th>\n",
       "      <th>revenue</th>\n",
       "      <th>mean_payment</th>\n",
       "      <th>var_payment</th>\n",
       "      <th>std_payment</th>\n",
       "      <th>median_payment</th>\n",
       "      <th>mode_payment</th>\n",
       "      <th>min_payment</th>\n",
       "      <th>max_payment</th>\n",
       "      <th>cr</th>\n",
       "      <th>arpu</th>\n",
       "    </tr>\n",
       "    <tr>\n",
       "      <th>Group</th>\n",
       "      <th></th>\n",
       "      <th></th>\n",
       "      <th></th>\n",
       "      <th></th>\n",
       "      <th></th>\n",
       "      <th></th>\n",
       "      <th></th>\n",
       "      <th></th>\n",
       "      <th></th>\n",
       "      <th></th>\n",
       "      <th></th>\n",
       "      <th></th>\n",
       "    </tr>\n",
       "  </thead>\n",
       "  <tbody>\n",
       "    <tr>\n",
       "      <th>New</th>\n",
       "      <td>25000</td>\n",
       "      <td>17119</td>\n",
       "      <td>3860640.0</td>\n",
       "      <td>154.425600</td>\n",
       "      <td>15822.102949</td>\n",
       "      <td>125.785941</td>\n",
       "      <td>160.0</td>\n",
       "      <td>0.0</td>\n",
       "      <td>0.0</td>\n",
       "      <td>360.0</td>\n",
       "      <td>0.68476</td>\n",
       "      <td>154.425600</td>\n",
       "    </tr>\n",
       "    <tr>\n",
       "      <th>Old</th>\n",
       "      <td>25001</td>\n",
       "      <td>12411</td>\n",
       "      <td>3845800.0</td>\n",
       "      <td>153.825847</td>\n",
       "      <td>34840.662310</td>\n",
       "      <td>186.656536</td>\n",
       "      <td>0.0</td>\n",
       "      <td>0.0</td>\n",
       "      <td>0.0</td>\n",
       "      <td>600.0</td>\n",
       "      <td>0.49642</td>\n",
       "      <td>153.825847</td>\n",
       "    </tr>\n",
       "  </tbody>\n",
       "</table>\n",
       "</div>"
      ],
      "text/plain": [
       "           n      x    revenue  mean_payment   var_payment  std_payment  \\\n",
       "Group                                                                     \n",
       "New    25000  17119  3860640.0    154.425600  15822.102949   125.785941   \n",
       "Old    25001  12411  3845800.0    153.825847  34840.662310   186.656536   \n",
       "\n",
       "       median_payment  mode_payment  min_payment  max_payment       cr  \\\n",
       "Group                                                                    \n",
       "New             160.0           0.0          0.0        360.0  0.68476   \n",
       "Old               0.0           0.0          0.0        600.0  0.49642   \n",
       "\n",
       "             arpu  \n",
       "Group              \n",
       "New    154.425600  \n",
       "Old    153.825847  "
      ]
     },
     "execution_count": 9,
     "metadata": {},
     "output_type": "execute_result"
    }
   ],
   "source": [
    "# 4. Расчёт сводной статистики\n",
    "summary = merged.groupby(\"Group\").agg(\n",
    "    n=(\"uid\", \"count\"),\n",
    "    x=(\"Converted\", \"sum\"),\n",
    "    revenue=(\"Payment\", \"sum\"),\n",
    "    mean_payment=(\"Payment\", \"mean\"),\n",
    "    var_payment=(\"Payment\", \"var\"),\n",
    "    std_payment=(\"Payment\", \"std\"),\n",
    "    median_payment=(\"Payment\", \"median\"),\n",
    "    mode_payment=(\"Payment\", lambda x: x.mode().iloc[0] if not x.mode().empty else np.nan),\n",
    "    min_payment=(\"Payment\", \"min\"),\n",
    "    max_payment=(\"Payment\", \"max\")\n",
    ").assign(\n",
    "    cr=lambda d: d.x / d.n,\n",
    "    arpu=lambda d: d.revenue / d.n\n",
    ")\n",
    "summary"
   ]
  },
  {
   "cell_type": "code",
   "execution_count": 20,
   "id": "989b4f6d-d119-4a76-a30d-1e614fb81b55",
   "metadata": {},
   "outputs": [
    {
     "data": {
      "image/png": "[encoded data removed]",
      "text/plain": [
       "<Figure size 1000x500 with 1 Axes>"
      ]
     },
     "metadata": {},
     "output_type": "display_data"
    }
   ],
   "source": [
    "plt.figure(figsize=(10, 5))\n",
    "sns.boxplot(data=merged, x=\"Group\", y=\"Payment\", palette='pastel', hue='Group')\n",
    "plt.title(\"Boxplot оплаты по группам\")\n",
    "plt.show()"
   ]
  },
  {
   "cell_type": "code",
   "execution_count": 27,
   "id": "f9be1ee0",
   "metadata": {},
   "outputs": [],
   "source": [
    "n1, n2 = int(summary.loc[\"Old\", \"n\"]), int(summary.loc[\"New\", \"n\"])\n",
    "x1, x2 = int(summary.loc[\"Old\", \"x\"]), int(summary.loc[\"New\", \"x\"])\n",
    "p1, p2 = x1 / n1, x2 / n2\n",
    "mean1, mean2 = summary.loc[\"Old\", \"mean_payment\"], summary.loc[\"New\", \"mean_payment\"]\n",
    "var1, var2 = summary.loc[\"Old\", \"var_payment\"], summary.loc[\"New\", \"var_payment\"]\n",
    "std1, std2 = summary.loc[\"Old\", \"std_payment\"], summary.loc[\"New\", \"std_payment\"]"
   ]
  },
  {
   "cell_type": "code",
   "execution_count": 25,
   "id": "4f5da01c",
   "metadata": {},
   "outputs": [
    {
     "data": {
      "text/plain": [
       "(34839.26873875817, 15821.470064639976, 1.3935707495503267, 0.6328841179503171)"
      ]
     },
     "execution_count": 25,
     "metadata": {},
     "output_type": "execute_result"
    }
   ],
   "source": [
    "# 6. MLE и Рао-Крамер\n",
    "mle_var1 = (n1 - 1) / n1 * var1\n",
    "mle_var2 = (n2 - 1) / n2 * var2\n",
    "\n",
    "rao_var1 = var1 / n1\n",
    "rao_var2 = var2 / n2\n",
    "\n",
    "mle_var1, mle_var2, rao_var1, rao_var2"
   ]
  },
  {
   "cell_type": "code",
   "execution_count": 23,
   "id": "885f11cf",
   "metadata": {},
   "outputs": [
    {
     "data": {
      "text/plain": [
       "((151.51207485299688, 156.13961907924585),\n",
       " (152.8663413211664, 155.9848586788336))"
      ]
     },
     "execution_count": 23,
     "metadata": {},
     "output_type": "execute_result"
    }
   ],
   "source": [
    "# 7. Доверительные интервалы\n",
    "ci_old = (mean1 - 1.96 * std1 / np.sqrt(n1), mean1 + 1.96 * std1 / np.sqrt(n1))\n",
    "ci_new = (mean2 - 1.96 * std2 / np.sqrt(n2), mean2 + 1.96 * std2 / np.sqrt(n2))\n",
    "\n",
    "ci_old, ci_new"
   ]
  },
  {
   "cell_type": "code",
   "execution_count": 24,
   "id": "c9313c35",
   "metadata": {},
   "outputs": [
    {
     "data": {
      "text/plain": [
       "(0.5905881882362353, 0.004398080894844028, -42.823190684492175, 0.0)"
      ]
     },
     "execution_count": 24,
     "metadata": {},
     "output_type": "execute_result"
    }
   ],
   "source": [
    "# 8. Проверка гипотез\n",
    "t_stat, p_val_t = ttest_ind(\n",
    "    merged[merged[\"Group\"] == \"Old\"][\"Payment\"],\n",
    "    merged[merged[\"Group\"] == \"New\"][\"Payment\"],\n",
    "    equal_var=False\n",
    ")\n",
    "\n",
    "p_comb = (x1 + x2) / (n1 + n2)\n",
    "se_comb = np.sqrt(p_comb * (1 - p_comb) * (1/n1 + 1/n2))\n",
    "z_stat = (p1 - p2) / se_comb\n",
    "p_val_z = 2 * (1 - norm.cdf(abs(z_stat)))\n",
    "\n",
    "p_comb, se_comb, z_stat, p_val_z"
   ]
  },
  {
   "cell_type": "code",
   "execution_count": 29,
   "id": "eb8ddc0b-eb06-425b-8cf4-4f5b57f4d75f",
   "metadata": {},
   "outputs": [
    {
     "data": {
      "image/png": "[encoded data removed]",
      "text/plain": [
       "<Figure size 1400x500 with 2 Axes>"
      ]
     },
     "metadata": {},
     "output_type": "display_data"
    }
   ],
   "source": [
    "fig, axes = plt.subplots(1, 2, figsize=(14, 5))\n",
    "\n",
    "sns.barplot(data=summary.reset_index(), x=\"Group\", y=\"cr\", ax=axes[0])\n",
    "axes[0].set_title(\"CR по группам\")\n",
    "axes[0].set_ylabel(\"Доля платящих\")\n",
    "\n",
    "sns.barplot(data=summary.reset_index(), x=\"Group\", y=\"arpu\", ax=axes[1])\n",
    "axes[1].set_title(\"ARPU по группам\")\n",
    "axes[1].set_ylabel(\"Средняя выручка на пользователя\")\n",
    "\n",
    "plt.tight_layout()\n",
    "plt.show()"
   ]
  },
  {
   "cell_type": "code",
   "execution_count": 26,
   "id": "607e60a3",
   "metadata": {},
   "outputs": [
    {
     "name": "stdout",
     "output_type": "stream",
     "text": [
      "MLE-дисперсия: 34839.27 (Old), 15821.47 (New)\n",
      "Рао-Крамер Var(x̄): 1.3936 (Old), 0.6329 (New)\n",
      "95% ДИ среднего (Old): (151.51207485299688, 156.13961907924585)\n",
      "95% ДИ среднего (New): (152.8663413211664, 155.9848586788336)\n",
      "t-критерий: t = -0.421 , p = 0.674\n",
      "z-критерий: z = -42.82 , p = 0.0\n"
     ]
    }
   ],
   "source": [
    "# 9. Вывод\n",
    "print(\"MLE-дисперсия:\", round(mle_var1, 2), \"(Old),\", round(mle_var2, 2), \"(New)\")\n",
    "print(\"Рао-Крамер Var(x̄):\", round(rao_var1, 4), \"(Old),\", round(rao_var2, 4), \"(New)\")\n",
    "print(\"95% ДИ среднего (Old):\", ci_old)\n",
    "print(\"95% ДИ среднего (New):\", ci_new)\n",
    "print(\"t-критерий: t =\", round(t_stat, 3), \", p =\", round(p_val_t, 3))\n",
    "print(\"z-критерий: z =\", round(z_stat, 2), \", p =\", round(p_val_z, 5))"
   ]
  },
  {
   "cell_type": "code",
   "execution_count": null,
   "id": "9bfe26ac-2248-457a-b96f-21da6e707cf2",
   "metadata": {},
   "outputs": [],
   "source": []
  }
 ],
 "metadata": {
  "kernelspec": {
   "display_name": "Python 3 (ipykernel)",
   "language": "python",
   "name": "python3"
  },
  "language": "python",
  "language_info": {
   "codemirror_mode": {
    "name": "ipython",
    "version": 3
   },
   "file_extension": ".py",
   "mimetype": "text/x-python",
   "name": "python",
   "nbconvert_exporter": "python",
   "pygments_lexer": "ipython3",
   "version": "3.12.0"
  }
 },
 "nbformat": 4,
 "nbformat_minor": 5
}
